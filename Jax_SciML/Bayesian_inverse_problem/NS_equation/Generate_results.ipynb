{
 "cells": [
  {
   "cell_type": "code",
   "execution_count": 1,
   "metadata": {},
   "outputs": [],
   "source": [
    "import os \n",
    "os.environ[\"CUDA_VISIBLE_DEVICES\"] = \"0\"\n",
    "\n",
    "import jax\n",
    "import pandas as pd\n",
    "import numpy as np\n",
    "import jax.numpy as jnp\n",
    "from utilities.adding_noise import adding_noise_to_observations\n",
    "from jax import random, vmap, jit, grad, lax\n",
    "import jax\n",
    "from jax import random\n",
    "from jax.nn.initializers import normal, zeros\n",
    "from jax.example_libraries import stax\n",
    "from jax.example_libraries import optimizers\n",
    "\n",
    "import pickle\n",
    "import glob\n",
    "\n",
    "import seaborn as sns\n",
    "\n",
    "import matplotlib as mpl\n",
    "import matplotlib.pyplot as plt\n",
    "import matplotlib\n",
    "import matplotlib.pylab as pylab\n",
    "import matplotlib.tri as tri\n",
    "from matplotlib.lines import Line2D\n",
    "from mpl_toolkits.mplot3d import Axes3D\n",
    "from matplotlib import cm  # Colour map\n",
    "import matplotlib.animation as animatio\n",
    "import matplotlib.font_manager\n",
    "mpl.rcParams['figure.figsize'] = [5, 5/1.3333]\n",
    "mpl.rcParams['figure.dpi'] = 300\n",
    "params = {'legend.fontsize': 9, 'axes.labelsize': 9, 'xtick.labelsize':9, 'ytick.labelsize':9}\n",
    "pylab.rcParams.update(params)\n",
    "mpl.rcParams['mathtext.fontset'] = 'cm'\n",
    "mpl.rcParams['mathtext.rm'] = 'serif'\n",
    "mpl.rcParams['font.family'] = 'serif'\n",
    "mpl.rcParams['font.serif'] = 'Times New Roman'"
   ]
  },
  {
   "cell_type": "code",
   "execution_count": 2,
   "metadata": {},
   "outputs": [],
   "source": [
    "num_test = 500\n",
    "\n",
    "case = 8\n",
    "key_noise_train = random.PRNGKey(10 + case)\n",
    "key_noise_test = random.PRNGKey(20 + case)\n",
    "key_network = 100\n",
    "noise_level = 0.02\n",
    "\n",
    "#? 0.4 Physical model information\n",
    "n = 32\n",
    "num_observation = 20  # number of observed points\n",
    "num_truncated_series = 24\n",
    "dimension_of_PoI = (n)**2  # external force field\n",
    "\n",
    "neurons = 5000\n"
   ]
  },
  {
   "cell_type": "markdown",
   "metadata": {},
   "source": [
    "## Loading test data\n"
   ]
  },
  {
   "cell_type": "code",
   "execution_count": 3,
   "metadata": {},
   "outputs": [],
   "source": [
    "\n",
    "def load_data(name, target_shape=(-1,)):\n",
    "    return np.reshape(pd.read_csv(name).to_numpy(), target_shape)\n",
    "train_Observations_synthetic = load_data('data/Train_Observations10000.csv', (10000, -1))\n",
    "train_Parameters = load_data('data/Train_PoI_samples_d10000.csv', (10000, -1))\n",
    "train_full_Observations_synthetic = load_data('data/Train_full_Observations10000.csv', (10000, -1))\n",
    "\n",
    "# train_Observations_synthetic = jnp.repeat(train_Observations_synthetic, repeat_fac, axis=0)\n",
    "# train_Parameters = jnp.repeat(train_Parameters, repeat_fac, axis=0)\n",
    "\n",
    "test_Observations_synthetic = load_data('data/Test_Observations' + str(num_test) + '.csv', (num_test, -1))\n",
    "test_Observations_full = load_data('data/Test_full_Observations' + str(num_test) + '.csv', (num_test, -1))\n",
    "test_Parameters = load_data('data/Test_PoI_samples_d' + str(num_test) + '.csv', (num_test, -1))\n",
    "\n",
    "#? 1.1 Add noise (WE DO NOT USE vmap, BE CAREFUL! )\n",
    "train_Observations = adding_noise_to_observations(train_Observations_synthetic, noise_level, key_noise_train)\n",
    "test_Observations = adding_noise_to_observations(test_Observations_synthetic, noise_level, key_noise_test)\n",
    "\n",
    "#? 1.2 Load Eigenvalue, Eigenvectors, observed indices, prematrices\n",
    "Basis = load_data('data/Basis' + '.csv', (dimension_of_PoI, num_truncated_series))\n",
    "obs_locations = load_data('data/obs_locations' + '.csv', (num_observation))\n",
    "\n",
    "Tik_POI = np.loadtxt('data/Tik_solutions.txt', delimiter = ',')"
   ]
  },
  {
   "cell_type": "code",
   "execution_count": 4,
   "metadata": {},
   "outputs": [
    {
     "name": "stdout",
     "output_type": "stream",
     "text": [
      "(500, 24) (10000, 1024)\n"
     ]
    }
   ],
   "source": [
    "print(Tik_POI.shape, train_full_Observations_synthetic.shape)"
   ]
  },
  {
   "cell_type": "markdown",
   "metadata": {},
   "source": [
    "## Encoder decoder neural networks"
   ]
  },
  {
   "cell_type": "code",
   "execution_count": 5,
   "metadata": {},
   "outputs": [],
   "source": [
    "def neuralnetwork_models_P2_fullO(num_observation, num_truncated_series, neurons, key_network):\n",
    "    #? 2.0 Define Obs_2_PoI_NN and PoI_2_Obs_NN architectures\n",
    "    Obs_2_PoI_NN_init, Obs_2_PoI_NN = stax.serial(\n",
    "        stax.Dense(neurons, W_init=normal(0.02), b_init=zeros), stax.Relu,\n",
    "        stax.Dense(num_truncated_series, W_init=normal(0.02), b_init=zeros)\n",
    "    )\n",
    "\n",
    "    PoI_2_Obs_NN_init, PoI_2_Obs_NN = stax.serial(\n",
    "        stax.Dense(neurons, W_init=normal(0.02), b_init=zeros), stax.Relu,\n",
    "        stax.Dense(32**2, W_init=normal(0.02), b_init=zeros)\n",
    "    )\n",
    "    \n",
    "    #? 2.1 Randomize the weights and bias\n",
    "    enc_init_rng, dec_init_rng = random.split(random.PRNGKey(key_network))\n",
    "    \n",
    "    _, init_Obs_2_PoI_NN_params = Obs_2_PoI_NN_init(enc_init_rng, (num_observation,))\n",
    "    _, init_PoI_2_Obs_NN_params = PoI_2_Obs_NN_init(dec_init_rng, (num_truncated_series,))\n",
    "\n",
    "    init_params = init_Obs_2_PoI_NN_params, init_PoI_2_Obs_NN_params\n",
    "    return Obs_2_PoI_NN, PoI_2_Obs_NN, init_params\n",
    "\n",
    "def neuralnetwork_models_P2_sparseO(num_observation, num_truncated_series, neurons, key_network):\n",
    "    #? 2.0 Define Obs_2_PoI_NN and PoI_2_Obs_NN architectures\n",
    "    Obs_2_PoI_NN_init, Obs_2_PoI_NN = stax.serial(\n",
    "        stax.Dense(neurons, W_init=normal(0.02), b_init=zeros), stax.Relu,\n",
    "        stax.Dense(num_truncated_series, W_init=normal(0.02), b_init=zeros)\n",
    "    )\n",
    "\n",
    "    PoI_2_Obs_NN_init, PoI_2_Obs_NN = stax.serial(\n",
    "        stax.Dense(neurons, W_init=normal(0.02), b_init=zeros), stax.Relu,\n",
    "        stax.Dense(num_observation, W_init=normal(0.02), b_init=zeros)\n",
    "    )\n",
    "\n",
    "    #? 2.1 Randomize the weights and bias\n",
    "    enc_init_rng, dec_init_rng = random.split(random.PRNGKey(key_network))\n",
    "\n",
    "    _, init_Obs_2_PoI_NN_params = Obs_2_PoI_NN_init(enc_init_rng, (num_observation,))\n",
    "    _, init_PoI_2_Obs_NN_params = PoI_2_Obs_NN_init(dec_init_rng, (num_truncated_series,))\n",
    "\n",
    "    init_params = init_Obs_2_PoI_NN_params, init_PoI_2_Obs_NN_params\n",
    "    return Obs_2_PoI_NN, PoI_2_Obs_NN, init_params\n",
    "\n"
   ]
  },
  {
   "cell_type": "markdown",
   "metadata": {},
   "source": [
    "## Accuracy functions"
   ]
  },
  {
   "cell_type": "code",
   "execution_count": 6,
   "metadata": {},
   "outputs": [],
   "source": [
    "\n",
    "#? 3.1 Define the main forward solver\n",
    "def Observation_operator(full_state):\n",
    "    return full_state[[obs_locations], ].flatten()\n",
    "    \n",
    "batched_Observation_operator = jax.jit(vmap(Observation_operator))\n",
    "    \n",
    "# ! 4.2 Accuracy rate function\n",
    "def acc_PoI(preds, true):\n",
    "    return jnp.mean(jnp.square(Basis @ (preds - true).T)) / jnp.mean(jnp.square(Basis @ true.T)) * 100\n",
    "\n",
    "def acc_obs(preds, true):\n",
    "    return jnp.mean(jnp.square(preds - true)) / jnp.mean(jnp.square(true))\n",
    "\n",
    "batched_acc_PoI = vmap(acc_PoI, in_axes=(0, 0))\n",
    "batched_acc_obs = vmap(acc_obs, in_axes=(0, 0))\n",
    "\n",
    "@jit\n",
    "def accuracy_data_P2_full_O(params, Observations, PoI):\n",
    "    init_Obs_2_PoI_NN_params_trained, init_PoI_2_Obs_NN_params_trained = params\n",
    "\n",
    "    Obs_2_PoI_NN_preds = Obs_2_PoI_NN(init_Obs_2_PoI_NN_params_trained, Observations)\n",
    "    Obs_2_PoI_NN_Err_all = batched_acc_PoI(Obs_2_PoI_NN_preds, PoI)\n",
    "    \n",
    "    PoI_2_Obs_NN_preds = batched_Observation_operator(PoI_2_Obs_NN(init_PoI_2_Obs_NN_params_trained, PoI))\n",
    "    PoI_2_Obs_NN_Err_all = batched_acc_obs(PoI_2_Obs_NN_preds, Observations)\n",
    "    \n",
    "    return Obs_2_PoI_NN_Err_all.mean(), PoI_2_Obs_NN_Err_all.mean()\n",
    "\n",
    "@jit\n",
    "def accuracy_data_P2_sparse_O(params, Observations, PoI):\n",
    "    init_Obs_2_PoI_NN_params_trained, init_PoI_2_Obs_NN_params_trained = params\n",
    "\n",
    "    Obs_2_PoI_NN_preds = Obs_2_PoI_NN(init_Obs_2_PoI_NN_params_trained, Observations)\n",
    "    Obs_2_PoI_NN_Err_all = batched_acc_PoI(Obs_2_PoI_NN_preds, PoI)\n",
    "    \n",
    "    PoI_2_Obs_NN_preds = PoI_2_Obs_NN(init_PoI_2_Obs_NN_params_trained, PoI)\n",
    "    PoI_2_Obs_NN_Err_all = batched_acc_obs(PoI_2_Obs_NN_preds, Observations)\n",
    "    \n",
    "    return Obs_2_PoI_NN_Err_all.mean(), PoI_2_Obs_NN_Err_all.mean()\n"
   ]
  },
  {
   "cell_type": "markdown",
   "metadata": {},
   "source": [
    "## Generate the table"
   ]
  },
  {
   "cell_type": "code",
   "execution_count": 7,
   "metadata": {},
   "outputs": [
    {
     "name": "stdout",
     "output_type": "stream",
     "text": [
      "1.21.6\n"
     ]
    }
   ],
   "source": [
    "import numpy\n",
    "print(numpy.__version__)"
   ]
  },
  {
   "cell_type": "code",
   "execution_count": 8,
   "metadata": {},
   "outputs": [
    {
     "name": "stdout",
     "output_type": "stream",
     "text": [
      "$\\purePOP$ 1  156.99 and 2.99e-01\n",
      "$\\purePOP$ 100  72.22 and 6.72e-02\n",
      "$\\pureOPO$ 1  103.94 and 5.60e+00\n",
      "$\\pureOPO$ 100  40.20 and 5.94e-01\n",
      "$\\mcPOP$ 1  161.48 and 2.99e-01\n",
      "$\\mcPOP$ 100  76.33 and 6.72e-02\n",
      "$\\mcOPO$ 1  46.43 and 5.15e-01\n",
      "$\\mcOPO$ 100  27.29 and 2.20e-03\n",
      "$\\mcOPOfull$ 1  46.43 and 3.79e-01\n",
      "$\\mcOPOfull$ 100  27.29 and 2.12e-03\n",
      "$\\TNetAE$ 1  25.68 and 2.14e-03\n",
      "$\\TNetAE$ 100  24.54 and 1.49e-03\n",
      "$\\TNetAEfull$ 1  25.68 and 2.10e-03\n",
      "$\\TNetAEfull$ 100  24.54 and 1.45e-03\n"
     ]
    }
   ],
   "source": [
    "\n",
    "name_learning_approach_array = ['$\\purePOP$', '$\\pureOPO$', '$\\mcPOP$', '$\\mcOPO$', '$\\mcOPOfull$', '$\\TNetAE$', '$\\TNetAEfull$']\n",
    "for name_learning_approach in name_learning_approach_array:\n",
    "    for num_train in [1, 100]:\n",
    "        if name_learning_approach == '$\\purePOP$':\n",
    "            name_learning = 'Naive_AutoEncoder_P2O2P'\n",
    "            best_inv = 'STEP_2'\n",
    "            best_for = 'STEP_1'\n",
    "            Obs_2_PoI_NN, PoI_2_Obs_NN, _ = neuralnetwork_models_P2_sparseO(num_observation, num_truncated_series, neurons, key_network)\n",
    "            acc_function = accuracy_data_P2_sparse_O\n",
    "            \n",
    "        if (name_learning_approach == '$\\mcPOP$'):\n",
    "            name_learning = 'mc_AutoEncoder_P2O2P'\n",
    "            best_inv = 'STEP_2'\n",
    "            best_for = 'STEP_1'\n",
    "            Obs_2_PoI_NN, PoI_2_Obs_NN, _ = neuralnetwork_models_P2_sparseO(num_observation, num_truncated_series, neurons, key_network)\n",
    "            \n",
    "        if name_learning_approach == '$\\pureOPO$':\n",
    "            name_learning = 'Naive_AutoEncoder_O2P2O'\n",
    "            best_inv = 'STEP_1'\n",
    "            best_for = 'STEP_2'\n",
    "            Obs_2_PoI_NN, PoI_2_Obs_NN, _ = neuralnetwork_models_P2_sparseO(num_observation, num_truncated_series, neurons, key_network)\n",
    "            acc_function = accuracy_data_P2_sparse_O\n",
    "            \n",
    "        if (name_learning_approach == '$\\mcOPO$'):\n",
    "            name_learning = 'mc_AutoEncoder_O2P2O'\n",
    "            best_inv = 'STEP_1'\n",
    "            best_for = 'STEP_2'\n",
    "            Obs_2_PoI_NN, PoI_2_Obs_NN, _ = neuralnetwork_models_P2_sparseO(num_observation, num_truncated_series, neurons, key_network)\n",
    "            acc_function = accuracy_data_P2_sparse_O\n",
    "            \n",
    "        if (name_learning_approach == '$\\TNetAE$'):\n",
    "            name_learning = 'mc_AutoEncoder_TNet_O2P2O'\n",
    "            best_inv = 'STEP_1'\n",
    "            best_for = 'STEP_2'\n",
    "            Obs_2_PoI_NN, PoI_2_Obs_NN, _ = neuralnetwork_models_P2_sparseO(num_observation, num_truncated_series, neurons, key_network)\n",
    "            acc_function = accuracy_data_P2_sparse_O\n",
    "            \n",
    "        if (name_learning_approach == '$\\TNetAEfull$'):\n",
    "            name_learning = 'mc_AutoEncoder_TNet_O2P2O_modified'\n",
    "            best_inv = 'STEP_1'\n",
    "            best_for = 'STEP_2'\n",
    "            Obs_2_PoI_NN, PoI_2_Obs_NN, _ = neuralnetwork_models_P2_fullO(num_observation, num_truncated_series, neurons, key_network)\n",
    "            acc_function = accuracy_data_P2_full_O\n",
    "            \n",
    "        if (name_learning_approach == '$\\mcOPOfull$'):\n",
    "            name_learning = 'mc_AutoEncoder_O2P2O_modified'\n",
    "            best_inv = 'STEP_1'\n",
    "            best_for = 'STEP_2'\n",
    "            Obs_2_PoI_NN, PoI_2_Obs_NN, _ = neuralnetwork_models_P2_fullO(num_observation, num_truncated_series, neurons, key_network)\n",
    "            acc_function = accuracy_data_P2_full_O\n",
    "            \n",
    "            \n",
    "        filename_pattern = f'Foward_{best_for}{name_learning}==data-d{num_train}_to_100_*'\n",
    "        matching_files = glob.glob(f'Network_picked/Network_picked/{filename_pattern}')\n",
    "        \n",
    "        # print(matching_files[0])\n",
    "        \n",
    "        best_for_params = pickle.load(open(matching_files[0], 'rb'))\n",
    "        opt_int, opt_update, opt_get_params = optimizers.adam(1e-3)\n",
    "        # For_opt_state = optimizers.pack_optimizer_state(best_for_params)\n",
    "        if best_for == 'STEP_1':\n",
    "            _, init_PoI_2_Obs_NN_params_trained  = best_for_params\n",
    "        if best_for == 'STEP_2':\n",
    "            init_PoI_2_Obs_NN_params_trained  = best_for_params\n",
    "        \n",
    "        filename_pattern = f'Inverse_{best_inv}{name_learning}==data-d{num_train}_to_100_*'\n",
    "        matching_files = glob.glob(f'Network_picked/Network_picked/{filename_pattern}')\n",
    "        best_inv_params = pickle.load(open(matching_files[0], 'rb'))\n",
    "        # opt_int, opt_update, opt_get_params = optimizers.adam(1e-3)\n",
    "        # For_opt_state = optimizers.pack_optimizer_state(best_inv_params)\n",
    "        if best_inv == 'STEP_1':\n",
    "            init_Obs_2_PoI_NN_params_trained, _  = best_inv_params\n",
    "        if best_inv == 'STEP_2':\n",
    "            init_Obs_2_PoI_NN_params_trained  = best_inv_params\n",
    "        \n",
    "        Obs_2_PoI_NN_accuracy_test, PoI_2_Obs_NN_accuracy_test = acc_function((init_Obs_2_PoI_NN_params_trained, init_PoI_2_Obs_NN_params_trained), test_Observations, test_Parameters)\n",
    "        print(f'{name_learning_approach} {num_train} {Obs_2_PoI_NN_accuracy_test : .2f} and {PoI_2_Obs_NN_accuracy_test :.2e}')\n",
    "        \n",
    "        "
   ]
  },
  {
   "cell_type": "markdown",
   "metadata": {},
   "source": [
    "## Plot quantative comparison plots for inverse and forward observations for different approaches"
   ]
  },
  {
   "cell_type": "code",
   "execution_count": 9,
   "metadata": {},
   "outputs": [],
   "source": [
    "def plot_single_true_versus_test(True_solutions, Pred_solutions, filename = ' ', savefig = False, lim_min = 100., lim_max = 100.):\n",
    "    fig = plt.figure()\n",
    "    fig.patch.set_facecolor('xkcd:white')\n",
    "    \n",
    "    if lim_min == 100.:\n",
    "        lim_min = jnp.round(jnp.asarray([True_solutions.min(), Pred_solutions.min()]).min(),1) -.2\n",
    "        lim_max = jnp.round(jnp.asarray([True_solutions.max(), Pred_solutions.max()]).max(),1) +.2\n",
    "    \n",
    "    plt.scatter(True_solutions, Pred_solutions)\n",
    "    plt.gca().set_aspect('equal', adjustable='box')\n",
    "    \n",
    "    lim_min = -3\n",
    "    lim_max = 3\n",
    "    \n",
    "    axis_range = np.linspace(lim_min, lim_max, 5)\n",
    "    plt.xticks(axis_range), plt.yticks(axis_range)\n",
    "    \n",
    "    plt.xlim([-3.,3.])\n",
    "    plt.ylim([-3.,3.])\n",
    "    \n",
    "    x = np.linspace(lim_min, lim_max, 1000)\n",
    "    plt.plot(x,x, 'r', linewidth=3)\n",
    "    \n",
    "    current_values = plt.gca().get_xticks()\n",
    "    # plt.gca().set_yticklabels(['{:,.1f}'.format(x) for x in current_values])\n",
    "    # plt.gca().set_xticklabels(['{:,.1f}'.format(x) for x in current_values])\n",
    "    \n",
    "    plt.xticks([-3,0,3]), plt.yticks([-3,0,3])\n",
    "    plt.xticks([]), plt.yticks([])\n",
    "    if savefig:\n",
    "        # tikzplotlib.save(f\"{filename}.tex\")\n",
    "        plt.savefig(f'{filename}.pdf', bbox_inches='tight')\n",
    "        plt.close()\n",
    "    else:\n",
    "        plt.show()\n",
    "\n",
    "\n",
    "\n",
    "N = 32\n",
    "x = np.linspace(0, 1, N)\n",
    "y = np.linspace(0, 1, N)\n",
    "X, Y = np.meshgrid(x, y)\n",
    "XX = X.flatten()\n",
    "YY = Y.flatten()\n",
    "\n",
    "def plot_domain(nodal_values, top, bottom, de, filename = '', save = False, cmap = cm.Reds):\n",
    "    L = np.sort(np.asarray((list(set(np.round(np.linspace(bottom, top, 30),3))))))\n",
    "    fig = plt.figure()\n",
    "    fig.patch.set_facecolor('xkcd:white')\n",
    "    ax = fig.add_subplot(1,1,1)\n",
    "    surf = ax.contourf(X, Y, (np.reshape(nodal_values, (32,32))), vmin = bottom, vmax = top, cmap=cmap, levels = L)\n",
    "    cbar = fig.colorbar(surf, shrink = 1., orientation = 'vertical', pad = 0.02)\n",
    "    cbar.set_ticks(np.linspace(bottom, top, de))\n",
    "    \n",
    "    for point in obs_locations:\n",
    "        plt.plot(XX[point,], YY[point,], 'ks', mew=3, ms=1)\n",
    "    ax.set_aspect('equal', adjustable='box')\n",
    "    ax.set_xticks([])\n",
    "    ax.set_yticks([])\n",
    "    \n",
    "    if save:\n",
    "        plt.savefig(filename, bbox_inches='tight')\n",
    "        plt.close()\n",
    "    else:\n",
    "        plt.show()\n",
    "\n"
   ]
  },
  {
   "cell_type": "code",
   "execution_count": 13,
   "metadata": {},
   "outputs": [],
   "source": [
    "\n",
    "name_learning_approach_array = ['$\\purePOP$', '$\\pureOPO$', '$\\mcPOP$', '$\\mcOPO$', '$\\mcOPOfull$', '$\\TNetAE$', '$\\TNetAEfull$']\n",
    "for name_learning_approach in name_learning_approach_array:\n",
    "    for num_train in [1, 100]:\n",
    "        if name_learning_approach == '$\\purePOP$':\n",
    "            name_learning = 'Naive_AutoEncoder_P2O2P'\n",
    "            best_inv = 'STEP_2'\n",
    "            best_for = 'STEP_1'\n",
    "            Obs_2_PoI_NN, PoI_2_Obs_NN, _ = neuralnetwork_models_P2_sparseO(num_observation, num_truncated_series, neurons, key_network)\n",
    "            acc_function = accuracy_data_P2_sparse_O\n",
    "            max_mean = 0.6\n",
    "            max_std = 0.3\n",
    "            \n",
    "        if (name_learning_approach == '$\\mcPOP$'):\n",
    "            name_learning = 'mc_AutoEncoder_P2O2P'\n",
    "            best_inv = 'STEP_2'\n",
    "            best_for = 'STEP_1'\n",
    "            Obs_2_PoI_NN, PoI_2_Obs_NN, _ = neuralnetwork_models_P2_sparseO(num_observation, num_truncated_series, neurons, key_network)\n",
    "            max_mean = 0.6\n",
    "            max_std = 0.3\n",
    "            \n",
    "        if name_learning_approach == '$\\pureOPO$':\n",
    "            name_learning = 'Naive_AutoEncoder_O2P2O'\n",
    "            best_inv = 'STEP_1'\n",
    "            best_for = 'STEP_2'\n",
    "            Obs_2_PoI_NN, PoI_2_Obs_NN, _ = neuralnetwork_models_P2_sparseO(num_observation, num_truncated_series, neurons, key_network)\n",
    "            acc_function = accuracy_data_P2_sparse_O\n",
    "            max_mean = 0.6\n",
    "            max_std = 0.3\n",
    "            \n",
    "        if (name_learning_approach == '$\\mcOPO$'):\n",
    "            name_learning = 'mc_AutoEncoder_O2P2O'\n",
    "            best_inv = 'STEP_1'\n",
    "            best_for = 'STEP_2'\n",
    "            Obs_2_PoI_NN, PoI_2_Obs_NN, _ = neuralnetwork_models_P2_sparseO(num_observation, num_truncated_series, neurons, key_network)\n",
    "            acc_function = accuracy_data_P2_sparse_O\n",
    "            max_mean = 0.6\n",
    "            max_std = 0.3\n",
    "            \n",
    "        if (name_learning_approach == '$\\TNetAE$'):\n",
    "            name_learning = 'mc_AutoEncoder_TNet_O2P2O'\n",
    "            best_inv = 'STEP_1'\n",
    "            best_for = 'STEP_2'\n",
    "            Obs_2_PoI_NN, PoI_2_Obs_NN, _ = neuralnetwork_models_P2_sparseO(num_observation, num_truncated_series, neurons, key_network)\n",
    "            acc_function = accuracy_data_P2_sparse_O\n",
    "            max_mean = 0.6\n",
    "            max_std = 0.3\n",
    "            \n",
    "        if (name_learning_approach == '$\\TNetAEfull$'):\n",
    "            name_learning = 'mc_AutoEncoder_TNet_O2P2O_modified'\n",
    "            best_inv = 'STEP_1'\n",
    "            best_for = 'STEP_2'\n",
    "            Obs_2_PoI_NN, PoI_2_Obs_NN, _ = neuralnetwork_models_P2_fullO(num_observation, num_truncated_series, neurons, key_network)\n",
    "            acc_function = accuracy_data_P2_full_O\n",
    "            max_mean = 0.6\n",
    "            max_std = 0.3\n",
    "        if (name_learning_approach == '$\\mcOPOfull$'):\n",
    "            name_learning = 'mc_AutoEncoder_O2P2O_modified'\n",
    "            best_inv = 'STEP_1'\n",
    "            best_for = 'STEP_2'\n",
    "            Obs_2_PoI_NN, PoI_2_Obs_NN, _ = neuralnetwork_models_P2_fullO(num_observation, num_truncated_series, neurons, key_network)\n",
    "            acc_function = accuracy_data_P2_full_O\n",
    "            max_mean = 0.6\n",
    "            max_std = 0.3\n",
    "            \n",
    "        filename_pattern = f'Foward_{best_for}{name_learning}==data-d{num_train}_to_100_*'\n",
    "        matching_files = glob.glob(f'Network_picked/Network_picked/{filename_pattern}')\n",
    "        \n",
    "        best_for_params = pickle.load(open(matching_files[0], 'rb'))\n",
    "        opt_int, opt_update, opt_get_params = optimizers.adam(1e-3)\n",
    "        if best_for == 'STEP_1':\n",
    "            _, init_PoI_2_Obs_NN_params_trained  = best_for_params\n",
    "        if best_for == 'STEP_2':\n",
    "            init_PoI_2_Obs_NN_params_trained  = best_for_params\n",
    "        \n",
    "        filename_pattern = f'Inverse_{best_inv}{name_learning}==data-d{num_train}_to_100_*'\n",
    "        matching_files = glob.glob(f'Network_picked/Network_picked/{filename_pattern}')\n",
    "        best_inv_params = pickle.load(open(matching_files[0], 'rb'))\n",
    "        if best_inv == 'STEP_1':\n",
    "            init_Obs_2_PoI_NN_params_trained, _  = best_inv_params\n",
    "        if best_inv == 'STEP_2':\n",
    "            init_Obs_2_PoI_NN_params_trained  = best_inv_params\n",
    "        \n",
    "        # Obs_2_PoI_NN_accuracy_test, PoI_2_Obs_NN_accuracy_test = acc_function((init_Obs_2_PoI_NN_params_trained, init_PoI_2_Obs_NN_params_trained), test_Observations, test_Parameters)\n",
    "        # print(f'{name_learning_approach} {num_train} {Obs_2_PoI_NN_accuracy_test : .2f} and {PoI_2_Obs_NN_accuracy_test :.2e}')\n",
    "        \n",
    "        PoI_test_pred = PoI_2_Obs_NN(init_Obs_2_PoI_NN_params_trained, test_Observations)\n",
    "        Obs_test_pred = Obs_2_PoI_NN(init_PoI_2_Obs_NN_params_trained, test_Parameters)\n",
    "        \n",
    "        file_name_to_save_fig = f'../../mcAE_Overleaf/Figs/2D_NS/forward_predictions_{name_learning}_d{num_train}'\n",
    "        if (name_learning_approach == '$\\TNetAEfull$') or (name_learning_approach == '$\\mcOPOfull$'):\n",
    "            plot_single_true_versus_test(batched_Observation_operator(Obs_test_pred), test_Observations, filename = file_name_to_save_fig, savefig = True)\n",
    "        else:\n",
    "            plot_single_true_versus_test(Obs_test_pred, test_Observations, filename = file_name_to_save_fig, savefig = True)\n",
    "        \n",
    "        true_PoI = np.einsum('bi, ji -> bj', test_Parameters, Basis)\n",
    "        pred_PoI = np.einsum('bi, ji -> bj', PoI_test_pred, Basis)\n",
    "        nodal_values = np.abs(true_PoI - pred_PoI).mean(axis = 0)\n",
    "        nodal_values_std = np.abs(true_PoI - pred_PoI).std(axis = 0)\n",
    "        \n",
    "        file_name_to_save_fig = f'../../mcAE_Overleaf/Figs/2D_NS/inverse_mean_error_predictions_{name_learning}_d{num_train}.pdf'\n",
    "        plot_domain(nodal_values, max_mean, 0., 4, filename = file_name_to_save_fig, save = True)\n",
    "        \n",
    "        file_name_to_save_fig = f'../../mcAE_Overleaf/Figs/2D_NS/inverse_std_error_predictions_{name_learning}_d{num_train}.pdf'\n",
    "        plot_domain(nodal_values_std, max_std, 0., 4, filename = file_name_to_save_fig, save = True)\n",
    "        \n",
    "        "
   ]
  },
  {
   "cell_type": "code",
   "execution_count": 14,
   "metadata": {},
   "outputs": [],
   "source": [
    "true_PoI = np.einsum('bi, ji -> bj', test_Parameters, Basis)\n",
    "pred_PoI = np.einsum('bi, ji -> bj', Tik_POI, Basis)\n",
    "nodal_values = np.abs(true_PoI - pred_PoI).mean(axis = 0)\n",
    "nodal_values_std = np.abs(true_PoI - pred_PoI).std(axis = 0)\n",
    "\n",
    "file_name_to_save_fig = f'../../mcAE_Overleaf/Figs/2D_NS/inverse_mean_error_predictions_Tikhonov.pdf'\n",
    "plot_domain(nodal_values, max_mean, 0., 4, filename = file_name_to_save_fig, save = True)\n",
    "\n",
    "file_name_to_save_fig = f'../../mcAE_Overleaf/Figs/2D_NS/inverse_std_error_predictions_Tikhonov.pdf'\n",
    "plot_domain(nodal_values_std, max_std, 0., 4, filename = file_name_to_save_fig, save = True)\n",
    "\n"
   ]
  },
  {
   "cell_type": "markdown",
   "metadata": {},
   "source": [
    "### Plot for naive OPO for proposal"
   ]
  },
  {
   "cell_type": "code",
   "execution_count": 10,
   "metadata": {},
   "outputs": [],
   "source": [
    "\n",
    "name_learning_approach_array = ['$\\purePOP$', '$\\pureOPO$', '$\\mcPOP$', '$\\mcOPO$', '$\\mcOPOfull$', '$\\TNetAE$', '$\\TNetAEfull$']\n",
    "for name_learning_approach in name_learning_approach_array:\n",
    "    for num_train in [1]:\n",
    "            \n",
    "        if name_learning_approach == '$\\pureOPO$':\n",
    "            name_learning = 'Naive_AutoEncoder_O2P2O'\n",
    "            best_inv = 'STEP_1'\n",
    "            best_for = 'STEP_2'\n",
    "            Obs_2_PoI_NN, PoI_2_Obs_NN, _ = neuralnetwork_models_P2_sparseO(num_observation, num_truncated_series, neurons, key_network)\n",
    "            acc_function = accuracy_data_P2_sparse_O\n",
    "            max_mean = 0.6\n",
    "            max_std = 0.3\n",
    "            \n",
    "            \n",
    "        filename_pattern = f'Foward_{best_for}{name_learning}==data-d{num_train}_to_100_*'\n",
    "        matching_files = glob.glob(f'Network_picked/Network_picked/{filename_pattern}')\n",
    "        \n",
    "        best_for_params = pickle.load(open(matching_files[0], 'rb'))\n",
    "        opt_int, opt_update, opt_get_params = optimizers.adam(1e-3)\n",
    "        if best_for == 'STEP_1':\n",
    "            _, init_PoI_2_Obs_NN_params_trained  = best_for_params\n",
    "        if best_for == 'STEP_2':\n",
    "            init_PoI_2_Obs_NN_params_trained  = best_for_params\n",
    "        \n",
    "        filename_pattern = f'Inverse_{best_inv}{name_learning}==data-d{num_train}_to_100_*'\n",
    "        matching_files = glob.glob(f'Network_picked/Network_picked/{filename_pattern}')\n",
    "        best_inv_params = pickle.load(open(matching_files[0], 'rb'))\n",
    "        if best_inv == 'STEP_1':\n",
    "            init_Obs_2_PoI_NN_params_trained, _  = best_inv_params\n",
    "        if best_inv == 'STEP_2':\n",
    "            init_Obs_2_PoI_NN_params_trained  = best_inv_params\n",
    "        \n",
    "        # Obs_2_PoI_NN_accuracy_test, PoI_2_Obs_NN_accuracy_test = acc_function((init_Obs_2_PoI_NN_params_trained, init_PoI_2_Obs_NN_params_trained), test_Observations, test_Parameters)\n",
    "        # print(f'{name_learning_approach} {num_train} {Obs_2_PoI_NN_accuracy_test : .2f} and {PoI_2_Obs_NN_accuracy_test :.2e}')\n",
    "        \n",
    "        PoI_test_pred = PoI_2_Obs_NN(init_Obs_2_PoI_NN_params_trained, test_Observations)\n",
    "        Obs_test_pred = Obs_2_PoI_NN(init_PoI_2_Obs_NN_params_trained, test_Parameters)\n",
    "        "
   ]
  },
  {
   "cell_type": "code",
   "execution_count": 15,
   "metadata": {},
   "outputs": [
    {
     "ename": "NameError",
     "evalue": "name 'pred_PoI' is not defined",
     "output_type": "error",
     "traceback": [
      "\u001b[0;31m---------------------------------------------------------------------------\u001b[0m",
      "\u001b[0;31mNameError\u001b[0m                                 Traceback (most recent call last)",
      "\u001b[0;32m/tmp/ipykernel_32672/4173090778.py\u001b[0m in \u001b[0;36m<module>\u001b[0;34m\u001b[0m\n\u001b[1;32m      2\u001b[0m \u001b[0;34m\u001b[0m\u001b[0m\n\u001b[1;32m      3\u001b[0m \u001b[0;34m\u001b[0m\u001b[0m\n\u001b[0;32m----> 4\u001b[0;31m \u001b[0mnodal_values\u001b[0m \u001b[0;34m=\u001b[0m \u001b[0mpred_PoI\u001b[0m\u001b[0;34m[\u001b[0m\u001b[0msample\u001b[0m\u001b[0;34m,\u001b[0m\u001b[0;34m:\u001b[0m\u001b[0;34m]\u001b[0m\u001b[0;34m\u001b[0m\u001b[0m\n\u001b[0m\u001b[1;32m      5\u001b[0m \u001b[0mmax\u001b[0m\u001b[0;34m,\u001b[0m \u001b[0mmin\u001b[0m\u001b[0;34m,\u001b[0m \u001b[0mde\u001b[0m \u001b[0;34m=\u001b[0m \u001b[0;36m.6\u001b[0m\u001b[0;34m,\u001b[0m \u001b[0;34m-\u001b[0m\u001b[0;36m.6\u001b[0m\u001b[0;34m,\u001b[0m \u001b[0;36m5\u001b[0m\u001b[0;34m\u001b[0m\u001b[0m\n\u001b[1;32m      6\u001b[0m \u001b[0mfile_name_to_save_fig\u001b[0m \u001b[0;34m=\u001b[0m \u001b[0;34mf'../../mcAE_Overleaf/Figs/2D_NS/Tnet_full_test_{num_train}sample_POI_sample.pdf'\u001b[0m\u001b[0;34m\u001b[0m\u001b[0m\n",
      "\u001b[0;31mNameError\u001b[0m: name 'pred_PoI' is not defined"
     ]
    }
   ],
   "source": [
    "PoI_test_pred.shape\n",
    "\n",
    "    \n",
    "nodal_values = pred_PoI[sample,:]\n",
    "max, min, de = .6, -.6, 5\n",
    "file_name_to_save_fig = f'../../mcAE_Overleaf/Figs/2D_NS/Tnet_full_test_{num_train}sample_POI_sample.pdf'\n",
    "plot_domain(nodal_values, max, min, de, filename = file_name_to_save_fig, save = False, cmap = 'jet', obs_plot = False)\n"
   ]
  },
  {
   "cell_type": "markdown",
   "metadata": {},
   "source": [
    "## plot the 1st training sample (converted triangulaization plot from Fenics)\n",
    "\n"
   ]
  },
  {
   "cell_type": "code",
   "execution_count": 12,
   "metadata": {},
   "outputs": [],
   "source": [
    "def plot_domain_train(nodal_values, top, bottom, de, filename = '', save = False, cmap = 'Reds', obs_plot = True):\n",
    "    L = np.sort(np.asarray((list(set(np.round(np.linspace(bottom, top, 30),3))))))\n",
    "    fig = plt.figure()\n",
    "    fig.patch.set_facecolor('xkcd:white')\n",
    "    ax = fig.add_subplot(1,1,1)\n",
    "    surf = ax.contourf(X, Y, (np.reshape(nodal_values, (32,32))), vmin = bottom, vmax = top, cmap=cmap, levels = L)\n",
    "    cbar = fig.colorbar(surf, shrink = 1., orientation = 'vertical', pad = 0.02)\n",
    "    cbar.set_ticks(np.linspace(bottom, top, de))\n",
    "    \n",
    "    if obs_plot:\n",
    "        for point in obs_locations:\n",
    "            plt.plot(XX[point,], YY[point,], 'ks', mew=3, ms=1)\n",
    "        \n",
    "    ax.set_aspect('equal', adjustable='box')\n",
    "    ax.set_xticks([])\n",
    "    ax.set_yticks([])\n",
    "    \n",
    "    if save:\n",
    "        plt.savefig(filename, bbox_inches='tight')\n",
    "        plt.close()\n",
    "    else:\n",
    "        plt.show()"
   ]
  },
  {
   "cell_type": "code",
   "execution_count": 13,
   "metadata": {},
   "outputs": [],
   "source": [
    "nodal_values = train_full_Observations_synthetic[0,:]\n",
    "\n",
    "max, min, de = 1.6, -1.6, 5\n",
    "file_name_to_save_fig = f'../../mcAE_Overleaf/Figs/2D_NS/True_train_sample_yobs_sample.pdf'\n",
    "plot_domain_train(nodal_values, max, min, de, filename = file_name_to_save_fig, save = True, cmap = 'jet')"
   ]
  },
  {
   "cell_type": "code",
   "execution_count": 14,
   "metadata": {},
   "outputs": [],
   "source": [
    "nodal_values = np.einsum('bi, ji -> bj', train_Parameters, Basis)[0,:]\n",
    "max, min, de = .6, -.6, 5\n",
    "file_name_to_save_fig = f'../../mcAE_Overleaf/Figs/2D_NS/True_train_sample_POI_sample.pdf'\n",
    "plot_domain_train(nodal_values, max, min, de, filename = file_name_to_save_fig, save = True, cmap = 'jet', obs_plot = False)"
   ]
  },
  {
   "cell_type": "markdown",
   "metadata": {},
   "source": [
    "## predictions by TNet full"
   ]
  },
  {
   "cell_type": "code",
   "execution_count": 15,
   "metadata": {},
   "outputs": [],
   "source": [
    "\n",
    "name_learning_approach_array = ['$\\mcOPOfull$', '$\\TNetAEfull$']\n",
    "for name_learning_approach in name_learning_approach_array:\n",
    "    for num_train in [100, 1]:\n",
    "        if (name_learning_approach == '$\\mcOPOfull$'):\n",
    "            name = 'mc_full'\n",
    "            name_learning = 'mc_AutoEncoder_O2P2O_modified'\n",
    "            best_inv = 'STEP_1'\n",
    "            best_for = 'STEP_2'\n",
    "            Obs_2_PoI_NN, PoI_2_Obs_NN, _ = neuralnetwork_models_P2_fullO(num_observation, num_truncated_series, neurons, key_network)\n",
    "            acc_function = accuracy_data_P2_full_O\n",
    "\n",
    "\n",
    "        if (name_learning_approach == '$\\TNetAEfull$'):\n",
    "            name = 'Tnet_full'\n",
    "            name_learning = 'mc_AutoEncoder_TNet_O2P2O_modified'\n",
    "            best_inv = 'STEP_1'\n",
    "            best_for = 'STEP_2'\n",
    "            Obs_2_PoI_NN, PoI_2_Obs_NN, _ = neuralnetwork_models_P2_fullO(num_observation, num_truncated_series, neurons, key_network)\n",
    "            acc_function = accuracy_data_P2_full_O\n",
    "\n",
    "\n",
    "        filename_pattern = f'Foward_{best_for}{name_learning}==data-d{num_train}_to_100_*'\n",
    "        matching_files = glob.glob(f'Network_picked/Network_picked/{filename_pattern}')\n",
    "\n",
    "        best_for_params = pickle.load(open(matching_files[0], 'rb'))\n",
    "        opt_int, opt_update, opt_get_params = optimizers.adam(1e-3)\n",
    "        if best_for == 'STEP_1':\n",
    "            _, init_PoI_2_Obs_NN_params_trained  = best_for_params\n",
    "        if best_for == 'STEP_2':\n",
    "            init_PoI_2_Obs_NN_params_trained  = best_for_params\n",
    "\n",
    "        filename_pattern = f'Inverse_{best_inv}{name_learning}==data-d{num_train}_to_100_*'\n",
    "        matching_files = glob.glob(f'Network_picked/Network_picked/{filename_pattern}')\n",
    "        best_inv_params = pickle.load(open(matching_files[0], 'rb'))\n",
    "        if best_inv == 'STEP_1':\n",
    "            init_Obs_2_PoI_NN_params_trained, _  = best_inv_params\n",
    "        if best_inv == 'STEP_2':\n",
    "            init_Obs_2_PoI_NN_params_trained  = best_inv_params\n",
    "\n",
    "        PoI_test_pred = PoI_2_Obs_NN(init_Obs_2_PoI_NN_params_trained, test_Observations)\n",
    "        Obs_test_pred = Obs_2_PoI_NN(init_PoI_2_Obs_NN_params_trained, test_Parameters)\n",
    "\n",
    "        true_PoI = np.einsum('bi, ji -> bj', test_Parameters, Basis)\n",
    "        pred_PoI = np.einsum('bi, ji -> bj', PoI_test_pred, Basis)\n",
    "        nodal_values = np.abs(test_Observations_full - Obs_test_pred).mean(axis = 0)\n",
    "        nodal_values_std = np.abs(test_Observations_full - Obs_test_pred).std(axis = 0)\n",
    "\n",
    "        mean_max = 0.04\n",
    "        std_max = 0.04\n",
    "        colorbar_points = 5\n",
    "        if (name_learning_approach == '$\\mcOPOfull$') and (num_train == 1):\n",
    "            mean_max = 0.9\n",
    "            std_max = 1.5\n",
    "            colorbar_points = 3\n",
    "            \n",
    "        file_name_to_save_fig = f'../../mcAE_Overleaf/Figs/2D_NS/{name}_trained_with{num_train}sample_mean_error_test_500sample_yobs_sample.pdf'\n",
    "        plot_domain(nodal_values, mean_max, 0., colorbar_points, filename = file_name_to_save_fig, save = True)\n",
    "\n",
    "        file_name_to_save_fig = f'../../mcAE_Overleaf/Figs/2D_NS/{name}_trained_with{num_train}sample_std_error_test_500sample_yobs_sample.pdf'\n",
    "        plot_domain(nodal_values_std, std_max, 0., colorbar_points, filename = file_name_to_save_fig, save = True)\n",
    "        \n",
    "        "
   ]
  },
  {
   "cell_type": "markdown",
   "metadata": {},
   "source": [
    "## TNet full and plot cherry pick sample"
   ]
  },
  {
   "cell_type": "code",
   "execution_count": 13,
   "metadata": {},
   "outputs": [],
   "source": [
    "def plot_domain(nodal_values, top, bottom, de, filename = '', save = False, cmap = 'Reds', obs_plot = True):\n",
    "    L = np.sort(np.asarray((list(set(np.round(np.linspace(bottom, top, 30),3))))))\n",
    "    fig = plt.figure()\n",
    "    fig.patch.set_facecolor('xkcd:white')\n",
    "    ax = fig.add_subplot(1,1,1)\n",
    "    surf = ax.contourf(X, Y, (np.reshape(nodal_values, (32,32))), vmin = bottom, vmax = top, cmap=cmap, levels = L)\n",
    "    cbar = fig.colorbar(surf, shrink = .6, orientation = 'horizontal', pad = 0.02)\n",
    "    cbar.set_ticks(np.linspace(bottom, top, de))\n",
    "    if obs_plot:\n",
    "        for point in obs_locations:\n",
    "            plt.plot(XX[point,], YY[point,], 'ks', mew=3, ms=1)\n",
    "        \n",
    "    ax.set_aspect('equal', adjustable='box')\n",
    "    ax.set_xticks([])\n",
    "    ax.set_yticks([])\n",
    "    \n",
    "    if save:\n",
    "        plt.savefig(filename, bbox_inches='tight')\n",
    "        plt.close()\n",
    "    else:\n",
    "        plt.show()"
   ]
  },
  {
   "cell_type": "code",
   "execution_count": 17,
   "metadata": {},
   "outputs": [
    {
     "data": {
      "text/plain": [
       "(array([310]),)"
      ]
     },
     "execution_count": 17,
     "metadata": {},
     "output_type": "execute_result"
    }
   ],
   "source": [
    "AA = np.abs(test_Observations_full - Obs_test_pred).sum(axis = 1)\n",
    "np.where(AA == AA.min())\n",
    "\n",
    "BB = np.abs(true_PoI - pred_PoI).sum(axis = 1)\n",
    "np.where(BB == BB.min())\n",
    "\n",
    "CC = AA / AA.max() + BB / BB.max()\n",
    "np.where(CC == CC.min())"
   ]
  },
  {
   "cell_type": "code",
   "execution_count": 14,
   "metadata": {},
   "outputs": [],
   "source": [
    "sample = 310\n",
    "full_true_obs = test_Observations_full"
   ]
  },
  {
   "cell_type": "code",
   "execution_count": 19,
   "metadata": {},
   "outputs": [],
   "source": [
    "nodal_values = full_true_obs[sample,:]\n",
    "\n",
    "max, min, de = 1.6, -1.6, 5\n",
    "file_name_to_save_fig = f'../../mcAE_Overleaf/Figs/2D_NS/True_test_{num_train}sample_yobs_sample.pdf'\n",
    "plot_domain(nodal_values, max, min, de, filename = file_name_to_save_fig, save = True, cmap = 'jet')"
   ]
  },
  {
   "cell_type": "code",
   "execution_count": 20,
   "metadata": {},
   "outputs": [],
   "source": [
    "nodal_values = Obs_test_pred[sample,:]\n",
    "\n",
    "max, min, de = 1.6, -1.6, 5\n",
    "file_name_to_save_fig = f'../../mcAE_Overleaf/Figs/2D_NS/Tnet_full_test_{num_train}sample_yobs_sample.pdf'\n",
    "plot_domain(nodal_values, max, min, de, filename = file_name_to_save_fig, save = True, cmap = 'jet')"
   ]
  },
  {
   "cell_type": "code",
   "execution_count": 21,
   "metadata": {},
   "outputs": [],
   "source": [
    "nodal_values = np.abs(full_true_obs[sample,:] - Obs_test_pred[sample,:])\n",
    "\n",
    "max, min, de = 0.020, 0., 3\n",
    "file_name_to_save_fig = f'../../mcAE_Overleaf/Figs/2D_NS/Tnet_full_error_test_{num_train}sample_yobs_sample.pdf'\n",
    "plot_domain(nodal_values, max, min, de, filename = file_name_to_save_fig, save = True, cmap = 'Reds')"
   ]
  },
  {
   "cell_type": "code",
   "execution_count": 28,
   "metadata": {},
   "outputs": [],
   "source": [
    "\n",
    "nodal_values = true_PoI[sample,:]\n",
    "max, min, de = .6, -.6, 5\n",
    "file_name_to_save_fig = f'../../mcAE_Overleaf/Figs/2D_NS/True_test_sample_POI_sample.pdf'\n",
    "plot_domain(nodal_values, max, min, de, filename = file_name_to_save_fig, save = True, cmap = 'jet', obs_plot = False)\n",
    "\n"
   ]
  },
  {
   "cell_type": "code",
   "execution_count": 24,
   "metadata": {},
   "outputs": [],
   "source": [
    "    \n",
    "nodal_values = pred_PoI[sample,:]\n",
    "max, min, de = .6, -.6, 5\n",
    "file_name_to_save_fig = f'../../mcAE_Overleaf/Figs/2D_NS/Tnet_full_test_{num_train}sample_POI_sample.pdf'\n",
    "plot_domain(nodal_values, max, min, de, filename = file_name_to_save_fig, save = True, cmap = 'jet', obs_plot = False)\n"
   ]
  },
  {
   "cell_type": "code",
   "execution_count": 25,
   "metadata": {},
   "outputs": [],
   "source": [
    "\n",
    "nodal_values = np.abs(true_PoI[sample,:] - pred_PoI[sample,:])\n",
    "max, min, de = .3, 0., 4\n",
    "file_name_to_save_fig = f'../../mcAE_Overleaf/Figs/2D_NS/Tnet_full_test_error_{num_train}sample_POI_sample.pdf'\n",
    "plot_domain(nodal_values, max, min, de, filename = file_name_to_save_fig, save = True, obs_plot = False)\n"
   ]
  },
  {
   "cell_type": "code",
   "execution_count": 26,
   "metadata": {},
   "outputs": [],
   "source": [
    "TIK_PoI = np.einsum('bi, ji -> bj', Tik_POI, Basis)\n",
    "nodal_values = TIK_PoI[sample,:]\n",
    "max, min, de = .6, -.6, 5\n",
    "file_name_to_save_fig = f'../../mcAE_Overleaf/Figs/2D_NS/Tik_test_sample_POI_sample.pdf'\n",
    "plot_domain(nodal_values, max, min, de, filename = file_name_to_save_fig, save = True, cmap = 'jet', obs_plot = False)\n"
   ]
  },
  {
   "cell_type": "code",
   "execution_count": 27,
   "metadata": {},
   "outputs": [],
   "source": [
    "    \n",
    "nodal_values = np.abs(true_PoI[sample,:] - TIK_PoI[sample,:])\n",
    "max, min, de = .3, 0., 4\n",
    "file_name_to_save_fig = f'../../mcAE_Overleaf/Figs/2D_NS/Tik_test_error_sample_POI_sample.pdf'\n",
    "plot_domain(nodal_values, max, min, de, filename = file_name_to_save_fig, save = True, obs_plot = False)\n"
   ]
  },
  {
   "cell_type": "code",
   "execution_count": null,
   "metadata": {},
   "outputs": [],
   "source": []
  },
  {
   "cell_type": "markdown",
   "metadata": {},
   "source": [
    "## test"
   ]
  },
  {
   "cell_type": "code",
   "execution_count": null,
   "metadata": {},
   "outputs": [],
   "source": [
    "nodal_values = pred_PoI[37,:]\n",
    "max, min, de = .6, -.6, 5\n",
    "file_name_to_save_fig = f'../../mcAE_Overleaf/Figs/2D_NS/Tnet_full_test_{num_train}sample_POI_sample.pdf'\n",
    "plot_domain(nodal_values, max, min, de, filename = file_name_to_save_fig, save = False, cmap = 'jet')\n"
   ]
  },
  {
   "cell_type": "markdown",
   "metadata": {},
   "source": [
    "## plot training samples"
   ]
  },
  {
   "cell_type": "code",
   "execution_count": null,
   "metadata": {},
   "outputs": [],
   "source": [
    "train_Observations_full = load_data('data/Test_full_Observations' + str(num_test) + '.csv', (num_test, -1))\n"
   ]
  },
  {
   "cell_type": "code",
   "execution_count": null,
   "metadata": {},
   "outputs": [],
   "source": [
    "nodal_values = train_Observations_full[0,:]\n",
    "nodal_values_mean = train_Observations_full.mean(axis = 0)\n",
    "nodal_values = train_Observations_full.mean(axis = 0)\n",
    "\n",
    "max, min, de = 1.6, -1.6, 5\n",
    "file_name_to_save_fig = f'../../mcAE_Overleaf/Figs/2D_NS/True_test_sample_yobs_sample.pdf'\n",
    "plot_domain(nodal_values, max, min, de, filename = file_name_to_save_fig, save = False, cmap = 'jet')"
   ]
  },
  {
   "cell_type": "code",
   "execution_count": null,
   "metadata": {},
   "outputs": [],
   "source": [
    "nodal_values = train_Observations_full[91,:]\n",
    "nodal_values = train_Observations_full[91,:] - nodal_values_mean\n",
    "\n",
    "\n",
    "max, min, de = .5, -.5, 5\n",
    "file_name_to_save_fig = f'../../mcAE_Overleaf/Figs/2D_NS/True_test_sample_yobs_sample.pdf'\n",
    "plot_domain(nodal_values, max, min, de, filename = file_name_to_save_fig, save = False, cmap = 'jet')"
   ]
  },
  {
   "cell_type": "code",
   "execution_count": null,
   "metadata": {},
   "outputs": [],
   "source": [
    "nodal_values = train_Observations_full[0,:]\n",
    "nodal_values = train_Observations_full[0,:] - nodal_values_mean\n",
    "\n",
    "max, min, de = .5, -.5, 5\n",
    "file_name_to_save_fig = f'../../mcAE_Overleaf/Figs/2D_NS/True_test_sample_yobs_sample.pdf'\n",
    "plot_domain(nodal_values, max, min, de, filename = file_name_to_save_fig, save = False, cmap = 'jet')"
   ]
  },
  {
   "cell_type": "code",
   "execution_count": null,
   "metadata": {},
   "outputs": [],
   "source": [
    "num_train_position = 90\n",
    "num_train = 1\n",
    "nodal_values = train_Observations_full[num_train_position:num_train_position+num_train,:]\n",
    "nodal_values = nodal_values - nodal_values_mean\n",
    "\n",
    "max, min, de = .5, -.5, 5\n",
    "file_name_to_save_fig = f'../../mcAE_Overleaf/Figs/2D_NS/True_test_sample_yobs_sample.pdf'\n",
    "plot_domain(nodal_values, max, min, de, filename = file_name_to_save_fig, save = False, cmap = 'jet')"
   ]
  },
  {
   "cell_type": "markdown",
   "metadata": {},
   "source": [
    "## Randomness over 10 different samples for training 1 sample."
   ]
  },
  {
   "cell_type": "code",
   "execution_count": null,
   "metadata": {},
   "outputs": [],
   "source": [
    "Error_array = []\n",
    "name_learning_approach_array = ['$\\TNetAEfull$']\n",
    "for name_learning_approach in name_learning_approach_array:\n",
    "    for num_train in [1]:\n",
    "        if (name_learning_approach == '$\\TNetAEfull$'):\n",
    "            name_learning = 'mc_AutoEncoder_TNet_O2P2O_modified'\n",
    "            best_inv = 'STEP_1'\n",
    "            \n",
    "        filename_pattern = f'Inverse_Random_*'\n",
    "        matching_files = glob.glob(f'Network_picked/Network_picked/{filename_pattern}')\n",
    "            \n",
    "        for matching_file in matching_files:\n",
    "            best_inv_params = pickle.load(open(matching_file, 'rb'))\n",
    "            init_Obs_2_PoI_NN_params_trained, _  = best_inv_params\n",
    "            Obs_2_PoI_NN_accuracy_test, PoI_2_Obs_NN_accuracy_test = acc_function((init_Obs_2_PoI_NN_params_trained, init_PoI_2_Obs_NN_params_trained), test_Observations, test_Parameters)\n",
    "            Error_array.append(Obs_2_PoI_NN_accuracy_test)\n",
    "            "
   ]
  },
  {
   "cell_type": "code",
   "execution_count": null,
   "metadata": {},
   "outputs": [],
   "source": [
    "jnp.asarray(Error_array).mean(), jnp.asarray(Error_array).std()"
   ]
  },
  {
   "cell_type": "code",
   "execution_count": null,
   "metadata": {},
   "outputs": [],
   "source": [
    "# Plot the triangulation\n",
    "plt.figure(figsize=(4, 4))\n",
    "# plt.triplot(triangulation, 'k-', linewidth=0.5)\n",
    "plt.plot([0,0], [0,1], 'k:', linewidth=1.)\n",
    "plt.plot([0,1], [0,0], 'k:', linewidth=1.)\n",
    "plt.plot([0,1], [1,1], 'k:', linewidth=1.)\n",
    "plt.plot([1,1], [0,1], 'k:', linewidth=1.)\n",
    "plt.plot(XX[obs_locations,], YY[obs_locations,], 'ks', markersize=3, label = 'Observed points')\n",
    "\n",
    "# Add index next to each point in obs_locations\n",
    "for i, loc in enumerate(obs_locations):\n",
    "    plt.text(XX[loc] + 0.01, YY[loc] - 0.01, str(i+1), fontsize=8)\n",
    "\n",
    "plt.axis('equal')\n",
    "plt.xlim([-0.01, 1.01])\n",
    "plt.ylim([-0.01, 1.01])\n",
    "\n",
    "plt.xticks([])\n",
    "plt.yticks([])\n",
    "\n",
    "# Hide the axis lines\n",
    "plt.gca().spines['top'].set_visible(False)\n",
    "plt.gca().spines['right'].set_visible(False)\n",
    "plt.gca().spines['bottom'].set_visible(False)\n",
    "plt.gca().spines['left'].set_visible(False)\n",
    "\n",
    "import tikzplotlib\n",
    "tikzplotlib.save(f\"../../mcAE_Overleaf/Figs/2D_NS/domain_observables_index.tex\")\n",
    "\n",
    "# plt.close()"
   ]
  },
  {
   "cell_type": "code",
   "execution_count": null,
   "metadata": {},
   "outputs": [],
   "source": [
    "import numpy as np\n",
    "import matplotlib.pyplot as plt\n",
    "\n",
    "list_point = np.asarray([0, 1, 8, 17, 28, 29, 30, 31, 41, 40, 50, 51])\n",
    "\n",
    "plt.figure(figsize=(10, 4))  # Increased figure size for better visibility\n",
    "\n",
    "# Plot individual scatter points\n",
    "for point in list_point:\n",
    "    plt.scatter(np.arange(1, len(train_Observations.mean(axis=0))+1), train_Observations[point], c='r', alpha=0.5, s=20)\n",
    "\n",
    "plt.scatter(np.arange(1, len(train_Observations.mean(axis=0))+1), train_Observations[point], c='r', alpha=0.5, s=20, label = 'samples')\n",
    "\n",
    "# Calculate mean and standard deviation\n",
    "x = np.arange(1, len(train_Observations.mean(axis=0))+1)  # Start x from 1\n",
    "y = train_Observations.mean(axis=0)\n",
    "yerr = train_Observations.std(axis=0)\n",
    "\n",
    "# Plot errorbar\n",
    "plt.errorbar(x, y, yerr=yerr, fmt='o', color='b', ecolor='lightblue', capsize=5, label='Mean with Std Dev')\n",
    "\n",
    "plt.xlabel('Observation Index')\n",
    "plt.ylabel('Observation Magnitude')\n",
    "plt.xticks(np.arange(1, 22, 4))  # Set x-ticks starting from 1\n",
    "plt.yticks([-1.5, 0, 1.5])\n",
    "plt.grid(True, linestyle='--', alpha=0.7)\n",
    "plt.legend()\n",
    "plt.tight_layout()\n",
    "# plt.show()\n",
    "\n",
    "import tikzplotlib\n",
    "tikzplotlib.save(f\"../../mcAE_Overleaf/Figs/2D_NS/observations_mean_standard_deviation.tex\")"
   ]
  },
  {
   "cell_type": "markdown",
   "metadata": {},
   "source": [
    "## Different noise level for 1st training sample for TNet full"
   ]
  },
  {
   "cell_type": "code",
   "execution_count": null,
   "metadata": {},
   "outputs": [],
   "source": [
    "Error_array = []\n",
    "name_learning_approach_array = ['$\\TNetAEfull$']\n",
    "for name_learning_approach in name_learning_approach_array:\n",
    "    for num_train in [1]:\n",
    "        if (name_learning_approach == '$\\TNetAEfull$'):\n",
    "            name_learning = 'mc_AutoEncoder_TNet_O2P2O_modified'\n",
    "            best_inv = 'STEP_1'\n",
    "            \n",
    "        filename_pattern = f'Inverse_noise_*'\n",
    "        matching_files = glob.glob(f'Network_picked/Network_picked/{filename_pattern}')\n",
    "        noise_levels = np.sort([float(file.split('noise_')[1].split('_')[0]) for file in matching_files])\n",
    "        \n",
    "        # for matching_file in matching_files:\n",
    "        #     print(matching_file)\n",
    "        for noise_level in noise_levels:\n",
    "            matching_file = f'Network_picked/Network_picked/Inverse_noise_{noise_level}_STEP_1mc_AutoEncoder_TNet_O2P2O==data-d1_to_100_alpha_mcDNN_500_alpha_P2O_1.0_alpha_O2P_1.0_alpha_Res_0.0noise_level_extra_{noise_level}'\n",
    "            print(noise_level)\n",
    "            best_inv_params = pickle.load(open(matching_file, 'rb'))\n",
    "            init_Obs_2_PoI_NN_params_trained, _  = best_inv_params\n",
    "            Obs_2_PoI_NN_accuracy_test, PoI_2_Obs_NN_accuracy_test = acc_function((init_Obs_2_PoI_NN_params_trained, init_PoI_2_Obs_NN_params_trained), test_Observations, test_Parameters)\n",
    "            Error_array.append(Obs_2_PoI_NN_accuracy_test)\n",
    "            \n",
    "Error_array\n",
    "            "
   ]
  },
  {
   "cell_type": "code",
   "execution_count": null,
   "metadata": {},
   "outputs": [],
   "source": [
    "plt.figure(figsize=(3, 2))  \n",
    "plt.plot(noise_levels, Error_array, 'b')\n",
    "plt.scatter(noise_levels, Error_array, marker='*', color='r')\n",
    "plt.ylim(20, 80), plt.xlim(-0.02, 0.72)\n",
    "plt.ylabel('Relative error'), plt.xlabel('Noise level')\n",
    "plt.yticks([20, 40, 60, 80])\n",
    "plt.xticks([0., 0.2, 0.4, 0.6, 0.7])\n",
    "# plt.show()\n",
    "\n",
    "import tikzplotlib\n",
    "tikzplotlib.save(f\"../../mcAE_Overleaf/Figs/2D_NS/TNet_full_noise_level_versus_relative_error.tex\")"
   ]
  },
  {
   "cell_type": "code",
   "execution_count": null,
   "metadata": {},
   "outputs": [],
   "source": []
  },
  {
   "cell_type": "code",
   "execution_count": null,
   "metadata": {},
   "outputs": [],
   "source": []
  }
 ],
 "metadata": {
  "kernelspec": {
   "display_name": "Python 3",
   "language": "python",
   "name": "python3"
  },
  "language_info": {
   "codemirror_mode": {
    "name": "ipython",
    "version": 3
   },
   "file_extension": ".py",
   "mimetype": "text/x-python",
   "name": "python",
   "nbconvert_exporter": "python",
   "pygments_lexer": "ipython3",
   "version": "3.7.0"
  }
 },
 "nbformat": 4,
 "nbformat_minor": 2
}
